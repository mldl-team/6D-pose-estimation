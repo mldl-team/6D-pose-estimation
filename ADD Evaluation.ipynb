{
 "cells": [
  {
   "cell_type": "code",
   "execution_count": 2,
   "id": "0ad0058c-c208-4252-8ea9-b90921ebdc24",
   "metadata": {},
   "outputs": [
    {
     "name": "stdout",
     "output_type": "stream",
     "text": [
      "Collecting plyfile\n",
      "  Downloading plyfile-1.1-py3-none-any.whl.metadata (2.1 kB)\n",
      "Requirement already satisfied: numpy>=1.21 in /home/erythm/anaconda3/envs/6d/lib/python3.13/site-packages (from plyfile) (2.2.5)\n",
      "Downloading plyfile-1.1-py3-none-any.whl (23 kB)\n",
      "Installing collected packages: plyfile\n",
      "Successfully installed plyfile-1.1\n"
     ]
    }
   ],
   "source": [
    "!pip install plyfile"
   ]
  },
  {
   "cell_type": "code",
   "execution_count": 6,
   "id": "2539f43c-9e5a-4df8-87a1-1943318a0ba9",
   "metadata": {},
   "outputs": [],
   "source": [
    "import torch.nn as nn\n",
    "import torchvision.models as models  # also needed for resnet18\n",
    "\n",
    "class PoseRegressionNet(nn.Module):\n",
    "    def __init__(self, pretrained=True):\n",
    "        super(PoseRegressionNet, self).__init__()\n",
    "\n",
    "        # 🔹 Load pretrained ResNet18 and remove its classifier\n",
    "        resnet = models.resnet18(pretrained=pretrained)\n",
    "        self.backbone = nn.Sequential(*list(resnet.children())[:-1])  # Remove final FC layer\n",
    "\n",
    "        # 🔹 Add a new regression head: input 512-d → output 12-d\n",
    "        self.regressor = nn.Sequential(\n",
    "            nn.Flatten(),\n",
    "            nn.Linear(512, 256),\n",
    "            nn.ReLU(),\n",
    "            nn.Linear(256, 128),\n",
    "            nn.ReLU(),\n",
    "            nn.Linear(128, 12)  # Output: x, y, z, r11..r33\n",
    "        )\n",
    "\n",
    "    def forward(self, x):\n",
    "        features = self.backbone(x)     # Shape: [B, 512, 1, 1]\n",
    "        output = self.regressor(features)  # Shape: [B, 12]\n",
    "        return output"
   ]
  },
  {
   "cell_type": "code",
   "execution_count": 10,
   "id": "659f64a2-43d6-406b-846d-4abc0bb38455",
   "metadata": {},
   "outputs": [
    {
     "name": "stdout",
     "output_type": "stream",
     "text": [
      "    class_id\n",
      "17         1\n",
      "3          2\n",
      "13         4\n",
      "5          5\n",
      "8          6\n",
      "2          8\n",
      "6          9\n",
      "0         10\n",
      "1         11\n",
      "12        12\n",
      "11        13\n"
     ]
    },
    {
     "name": "stderr",
     "output_type": "stream",
     "text": [
      "/home/erythm/anaconda3/envs/6d/lib/python3.13/site-packages/torchvision/models/_utils.py:208: UserWarning: The parameter 'pretrained' is deprecated since 0.13 and may be removed in the future, please use 'weights' instead.\n",
      "  warnings.warn(\n",
      "/home/erythm/anaconda3/envs/6d/lib/python3.13/site-packages/torchvision/models/_utils.py:223: UserWarning: Arguments other than a weight enum or `None` for 'weights' are deprecated since 0.13 and may be removed in the future. The current behavior is equivalent to passing `weights=ResNet18_Weights.IMAGENET1K_V1`. You can also use `weights=ResNet18_Weights.DEFAULT` to get the most up-to-date weights.\n",
      "  warnings.warn(msg)\n"
     ]
    },
    {
     "name": "stdout",
     "output_type": "stream",
     "text": [
      "\n",
      "✅ ADD Evaluation Complete — Average ADD: 4.593893 meters\n"
     ]
    }
   ],
   "source": [
    "import os\n",
    "import torch\n",
    "import numpy as np\n",
    "import pandas as pd\n",
    "from plyfile import PlyData\n",
    "from torchvision import transforms\n",
    "from PIL import Image\n",
    "\n",
    "# Load your model\n",
    "model = PoseRegressionNet()\n",
    "model.load_state_dict(torch.load('pose_regression_model.pth', map_location='cpu'))\n",
    "model.eval()\n",
    "\n",
    "# Load CSV\n",
    "df = pd.read_csv('pose_labels.csv')\n",
    "\n",
    "print(df[['class_id']].drop_duplicates().sort_values(by='class_id'))\n",
    "\n",
    "# Same transforms used during training\n",
    "transform = transforms.Compose([\n",
    "    transforms.Resize((224, 224)),\n",
    "    transforms.ToTensor(),\n",
    "    transforms.Normalize([0.485, 0.456, 0.406],\n",
    "                         [0.229, 0.224, 0.225])\n",
    "])\n",
    "\n",
    "# Helpers\n",
    "def load_ply_model(ply_path):\n",
    "    ply = PlyData.read(ply_path)\n",
    "    v = ply['vertex']\n",
    "    return np.stack([v['x'], v['y'], v['z']], axis=-1).astype(np.float32)\n",
    "\n",
    "def transform_points(pts, R, t):\n",
    "    return pts @ R.T + t\n",
    "\n",
    "def compute_add(gt_pts, pred_pts):\n",
    "    return np.mean(np.linalg.norm(gt_pts - pred_pts, axis=1))\n",
    "\n",
    "# Run ADD evaluation\n",
    "add_scores = []\n",
    "PLY_FOLDER = '/home/erythm/6d/dataset/Linemod_preprocessed/models/'  # ✅ YOUR path\n",
    "\n",
    "for idx, row in df.iterrows():\n",
    "    img_path = row['crop_path']\n",
    "    class_id = int(row['class_id'])\n",
    "\n",
    "    img = Image.open(img_path).convert('RGB')\n",
    "    img_tensor = transform(img).unsqueeze(0)\n",
    "\n",
    "    with torch.no_grad():\n",
    "        pred_pose = model(img_tensor).squeeze().numpy()\n",
    "\n",
    "    pred_t = pred_pose[:3]\n",
    "    pred_R = np.array(pred_pose[3:]).reshape(3, 3)\n",
    "\n",
    "    gt_t = np.array([row['x'], row['y'], row['z']])\n",
    "    gt_R = np.array([row[f'R{i}'] for i in range(1, 10)]).reshape(3, 3)\n",
    "\n",
    "    ply_path = os.path.join(PLY_FOLDER, f\"obj_{class_id:02d}.ply\")\n",
    "    if not os.path.exists(ply_path):\n",
    "        print(f\"[SKIP] No .ply for class {class_id}\")\n",
    "        continue\n",
    "\n",
    "    pts = load_ply_model(ply_path)\n",
    "    gt_pts = transform_points(pts, gt_R, gt_t)\n",
    "    pred_pts = transform_points(pts, pred_R, pred_t)\n",
    "\n",
    "    add = compute_add(gt_pts, pred_pts)\n",
    "    add_scores.append(add)\n",
    "\n",
    "print(\"\\n✅ ADD Evaluation Complete — Average ADD: {:.6f} meters\".format(np.mean(add_scores)))"
   ]
  },
  {
   "cell_type": "code",
   "execution_count": null,
   "id": "b809df46-d9b3-4748-b3c6-8e9e4cc34324",
   "metadata": {},
   "outputs": [],
   "source": []
  }
 ],
 "metadata": {
  "kernelspec": {
   "display_name": "Python 3 (ipykernel)",
   "language": "python",
   "name": "python3"
  },
  "language_info": {
   "codemirror_mode": {
    "name": "ipython",
    "version": 3
   },
   "file_extension": ".py",
   "mimetype": "text/x-python",
   "name": "python",
   "nbconvert_exporter": "python",
   "pygments_lexer": "ipython3",
   "version": "3.13.2"
  }
 },
 "nbformat": 4,
 "nbformat_minor": 5
}
